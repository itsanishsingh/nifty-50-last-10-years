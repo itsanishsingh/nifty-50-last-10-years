{
 "cells": [
  {
   "cell_type": "code",
   "execution_count": null,
   "id": "d39535aa-2182-4b12-9e2f-792d3bcead6d",
   "metadata": {},
   "outputs": [],
   "source": [
    "import yfinance as yf\n",
    "import pandas as pd\n",
    "from datetime import datetime, date\n",
    "from dateutil.relativedelta import relativedelta"
   ]
  },
  {
   "cell_type": "code",
   "execution_count": null,
   "id": "6351349a-a5b8-4791-9b16-dbc2fef2534a",
   "metadata": {},
   "outputs": [],
   "source": [
    "nifty50_data = pd.read_csv('data/ind_nifty50list.csv')\n",
    "tickers = nifty50_data[\"Symbol\"]"
   ]
  },
  {
   "cell_type": "code",
   "execution_count": null,
   "id": "d6e51295-68f9-4460-9b2e-1023d9e99eed",
   "metadata": {},
   "outputs": [],
   "source": [
    "result = pd.DataFrame()\n",
    "curr_date = datetime.today().strftime('%Y-%m-%d')\n",
    "ten_years_ago = str(date.today() - relativedelta(years=10))\n",
    "for ticker in tickers:\n",
    "    data = yf.download(f\"{ticker}.NS\", start=ten_years_ago, end=curr_date)\n",
    "    columns = [col[0] for col in data.columns]\n",
    "    data.columns = columns\n",
    "    data['Symbol'] = ticker\n",
    "    result = pd.concat([result, data])"
   ]
  },
  {
   "cell_type": "code",
   "execution_count": null,
   "id": "d9913b27-ab79-4662-84c6-5e9dffd9cebf",
   "metadata": {},
   "outputs": [],
   "source": [
    "result.to_csv(\"data/nifty50_result.csv\")"
   ]
  },
  {
   "cell_type": "code",
   "execution_count": null,
   "id": "4a327dab-d0b6-4c8f-84c8-578bb41f8233",
   "metadata": {},
   "outputs": [],
   "source": [
    "result.head()"
   ]
  },
  {
   "cell_type": "code",
   "execution_count": null,
   "id": "5cc607ee-d5dc-403d-92b8-c18db57ffcc1",
   "metadata": {},
   "outputs": [],
   "source": [
    "result.info()"
   ]
  },
  {
   "cell_type": "code",
   "execution_count": null,
   "id": "b1769db4-2ed8-4885-9af8-100a2c2db460",
   "metadata": {},
   "outputs": [],
   "source": []
  }
 ],
 "metadata": {
  "kernelspec": {
   "display_name": "Python 3 (ipykernel)",
   "language": "python",
   "name": "python3"
  },
  "language_info": {
   "codemirror_mode": {
    "name": "ipython",
    "version": 3
   },
   "file_extension": ".py",
   "mimetype": "text/x-python",
   "name": "python",
   "nbconvert_exporter": "python",
   "pygments_lexer": "ipython3",
   "version": "3.10.15"
  }
 },
 "nbformat": 4,
 "nbformat_minor": 5
}
