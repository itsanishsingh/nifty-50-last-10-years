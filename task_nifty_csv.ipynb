{
 "cells": [
  {
   "cell_type": "code",
   "execution_count": 1,
   "id": "d39535aa-2182-4b12-9e2f-792d3bcead6d",
   "metadata": {},
   "outputs": [],
   "source": [
    "import yfinance as yf\n",
    "import pandas as pd\n",
    "from datetime import datetime, date\n",
    "from dateutil.relativedelta import relativedelta"
   ]
  },
  {
   "cell_type": "code",
   "execution_count": 2,
   "id": "6351349a-a5b8-4791-9b16-dbc2fef2534a",
   "metadata": {},
   "outputs": [],
   "source": [
    "nifty50_data = pd.read_csv('data/ind_nifty50list.csv')\n",
    "tickers = nifty50_data[\"Symbol\"]"
   ]
  },
  {
   "cell_type": "code",
   "execution_count": 3,
   "id": "d6e51295-68f9-4460-9b2e-1023d9e99eed",
   "metadata": {},
   "outputs": [
    {
     "name": "stderr",
     "output_type": "stream",
     "text": [
      "[*********************100%***********************]  1 of 1 completed\n",
      "[*********************100%***********************]  1 of 1 completed\n",
      "[*********************100%***********************]  1 of 1 completed\n",
      "[*********************100%***********************]  1 of 1 completed\n",
      "[*********************100%***********************]  1 of 1 completed\n",
      "[*********************100%***********************]  1 of 1 completed\n",
      "[*********************100%***********************]  1 of 1 completed\n",
      "[*********************100%***********************]  1 of 1 completed\n",
      "[*********************100%***********************]  1 of 1 completed\n",
      "[*********************100%***********************]  1 of 1 completed\n",
      "[*********************100%***********************]  1 of 1 completed\n",
      "[*********************100%***********************]  1 of 1 completed\n",
      "[*********************100%***********************]  1 of 1 completed\n",
      "[*********************100%***********************]  1 of 1 completed\n",
      "[*********************100%***********************]  1 of 1 completed\n",
      "[*********************100%***********************]  1 of 1 completed\n",
      "[*********************100%***********************]  1 of 1 completed\n",
      "[*********************100%***********************]  1 of 1 completed\n",
      "[*********************100%***********************]  1 of 1 completed\n",
      "[*********************100%***********************]  1 of 1 completed\n",
      "[*********************100%***********************]  1 of 1 completed\n",
      "[*********************100%***********************]  1 of 1 completed\n",
      "[*********************100%***********************]  1 of 1 completed\n",
      "[*********************100%***********************]  1 of 1 completed\n",
      "[*********************100%***********************]  1 of 1 completed\n",
      "[*********************100%***********************]  1 of 1 completed\n",
      "[*********************100%***********************]  1 of 1 completed\n",
      "[*********************100%***********************]  1 of 1 completed\n",
      "[*********************100%***********************]  1 of 1 completed\n",
      "[*********************100%***********************]  1 of 1 completed\n",
      "[*********************100%***********************]  1 of 1 completed\n",
      "[*********************100%***********************]  1 of 1 completed\n",
      "[*********************100%***********************]  1 of 1 completed\n",
      "[*********************100%***********************]  1 of 1 completed\n",
      "[*********************100%***********************]  1 of 1 completed\n",
      "[*********************100%***********************]  1 of 1 completed\n",
      "[*********************100%***********************]  1 of 1 completed\n",
      "[*********************100%***********************]  1 of 1 completed\n",
      "[*********************100%***********************]  1 of 1 completed\n",
      "[*********************100%***********************]  1 of 1 completed\n",
      "[*********************100%***********************]  1 of 1 completed\n",
      "[*********************100%***********************]  1 of 1 completed\n",
      "[*********************100%***********************]  1 of 1 completed\n",
      "[*********************100%***********************]  1 of 1 completed\n",
      "[*********************100%***********************]  1 of 1 completed\n",
      "[*********************100%***********************]  1 of 1 completed\n",
      "[*********************100%***********************]  1 of 1 completed\n",
      "[*********************100%***********************]  1 of 1 completed\n",
      "[*********************100%***********************]  1 of 1 completed\n",
      "[*********************100%***********************]  1 of 1 completed\n"
     ]
    }
   ],
   "source": [
    "result = pd.DataFrame()\n",
    "curr_date = datetime.today().strftime('%Y-%m-%d')\n",
    "ten_years_ago = str(date.today() - relativedelta(years=10))\n",
    "for ticker in tickers:\n",
    "    data = yf.download(f\"{ticker}.NS\", start=ten_years_ago, end=curr_date)\n",
    "    columns = [col[0] for col in data.columns]\n",
    "    data.columns = columns\n",
    "    data['Symbol'] = ticker\n",
    "    result = pd.concat([result, data])"
   ]
  },
  {
   "cell_type": "code",
   "execution_count": 4,
   "id": "d9913b27-ab79-4662-84c6-5e9dffd9cebf",
   "metadata": {},
   "outputs": [],
   "source": [
    "result.to_csv(\"data/nifty50_result_3.csv\")"
   ]
  },
  {
   "cell_type": "code",
   "execution_count": 5,
   "id": "4a327dab-d0b6-4c8f-84c8-578bb41f8233",
   "metadata": {},
   "outputs": [
    {
     "data": {
      "text/html": [
       "<div>\n",
       "<style scoped>\n",
       "    .dataframe tbody tr th:only-of-type {\n",
       "        vertical-align: middle;\n",
       "    }\n",
       "\n",
       "    .dataframe tbody tr th {\n",
       "        vertical-align: top;\n",
       "    }\n",
       "\n",
       "    .dataframe thead th {\n",
       "        text-align: right;\n",
       "    }\n",
       "</style>\n",
       "<table border=\"1\" class=\"dataframe\">\n",
       "  <thead>\n",
       "    <tr style=\"text-align: right;\">\n",
       "      <th></th>\n",
       "      <th>Adj Close</th>\n",
       "      <th>Close</th>\n",
       "      <th>High</th>\n",
       "      <th>Low</th>\n",
       "      <th>Open</th>\n",
       "      <th>Volume</th>\n",
       "      <th>Symbol</th>\n",
       "    </tr>\n",
       "    <tr>\n",
       "      <th>Date</th>\n",
       "      <th></th>\n",
       "      <th></th>\n",
       "      <th></th>\n",
       "      <th></th>\n",
       "      <th></th>\n",
       "      <th></th>\n",
       "      <th></th>\n",
       "    </tr>\n",
       "  </thead>\n",
       "  <tbody>\n",
       "    <tr>\n",
       "      <th>2014-11-07 00:00:00+00:00</th>\n",
       "      <td>68.523972</td>\n",
       "      <td>72.866959</td>\n",
       "      <td>73.962875</td>\n",
       "      <td>71.755714</td>\n",
       "      <td>73.526047</td>\n",
       "      <td>5065827</td>\n",
       "      <td>ADANIENT</td>\n",
       "    </tr>\n",
       "    <tr>\n",
       "      <th>2014-11-10 00:00:00+00:00</th>\n",
       "      <td>67.543831</td>\n",
       "      <td>71.824692</td>\n",
       "      <td>73.510719</td>\n",
       "      <td>71.349541</td>\n",
       "      <td>72.882294</td>\n",
       "      <td>4696974</td>\n",
       "      <td>ADANIENT</td>\n",
       "    </tr>\n",
       "    <tr>\n",
       "      <th>2014-11-11 00:00:00+00:00</th>\n",
       "      <td>69.972572</td>\n",
       "      <td>74.407379</td>\n",
       "      <td>74.629623</td>\n",
       "      <td>71.893669</td>\n",
       "      <td>72.039276</td>\n",
       "      <td>9589629</td>\n",
       "      <td>ADANIENT</td>\n",
       "    </tr>\n",
       "    <tr>\n",
       "      <th>2014-11-12 00:00:00+00:00</th>\n",
       "      <td>69.028458</td>\n",
       "      <td>73.403427</td>\n",
       "      <td>75.235062</td>\n",
       "      <td>72.123581</td>\n",
       "      <td>74.644951</td>\n",
       "      <td>24243383</td>\n",
       "      <td>ADANIENT</td>\n",
       "    </tr>\n",
       "    <tr>\n",
       "      <th>2014-11-13 00:00:00+00:00</th>\n",
       "      <td>69.388809</td>\n",
       "      <td>73.786613</td>\n",
       "      <td>74.683273</td>\n",
       "      <td>72.797989</td>\n",
       "      <td>73.771286</td>\n",
       "      <td>8612471</td>\n",
       "      <td>ADANIENT</td>\n",
       "    </tr>\n",
       "  </tbody>\n",
       "</table>\n",
       "</div>"
      ],
      "text/plain": [
       "                           Adj Close      Close       High        Low  \\\n",
       "Date                                                                    \n",
       "2014-11-07 00:00:00+00:00  68.523972  72.866959  73.962875  71.755714   \n",
       "2014-11-10 00:00:00+00:00  67.543831  71.824692  73.510719  71.349541   \n",
       "2014-11-11 00:00:00+00:00  69.972572  74.407379  74.629623  71.893669   \n",
       "2014-11-12 00:00:00+00:00  69.028458  73.403427  75.235062  72.123581   \n",
       "2014-11-13 00:00:00+00:00  69.388809  73.786613  74.683273  72.797989   \n",
       "\n",
       "                                Open    Volume    Symbol  \n",
       "Date                                                      \n",
       "2014-11-07 00:00:00+00:00  73.526047   5065827  ADANIENT  \n",
       "2014-11-10 00:00:00+00:00  72.882294   4696974  ADANIENT  \n",
       "2014-11-11 00:00:00+00:00  72.039276   9589629  ADANIENT  \n",
       "2014-11-12 00:00:00+00:00  74.644951  24243383  ADANIENT  \n",
       "2014-11-13 00:00:00+00:00  73.771286   8612471  ADANIENT  "
      ]
     },
     "execution_count": 5,
     "metadata": {},
     "output_type": "execute_result"
    }
   ],
   "source": [
    "result.head()"
   ]
  },
  {
   "cell_type": "code",
   "execution_count": 6,
   "id": "5cc607ee-d5dc-403d-92b8-c18db57ffcc1",
   "metadata": {},
   "outputs": [
    {
     "name": "stdout",
     "output_type": "stream",
     "text": [
      "<class 'pandas.core.frame.DataFrame'>\n",
      "DatetimeIndex: 121936 entries, 2014-11-07 00:00:00+00:00 to 2024-11-05 00:00:00+00:00\n",
      "Data columns (total 7 columns):\n",
      " #   Column     Non-Null Count   Dtype  \n",
      "---  ------     --------------   -----  \n",
      " 0   Adj Close  121936 non-null  float64\n",
      " 1   Close      121936 non-null  float64\n",
      " 2   High       121936 non-null  float64\n",
      " 3   Low        121936 non-null  float64\n",
      " 4   Open       121936 non-null  float64\n",
      " 5   Volume     121936 non-null  int64  \n",
      " 6   Symbol     121936 non-null  object \n",
      "dtypes: float64(5), int64(1), object(1)\n",
      "memory usage: 7.4+ MB\n"
     ]
    }
   ],
   "source": [
    "result.info()"
   ]
  },
  {
   "cell_type": "code",
   "execution_count": null,
   "id": "b1769db4-2ed8-4885-9af8-100a2c2db460",
   "metadata": {},
   "outputs": [],
   "source": []
  }
 ],
 "metadata": {
  "kernelspec": {
   "display_name": "Python 3 (ipykernel)",
   "language": "python",
   "name": "python3"
  },
  "language_info": {
   "codemirror_mode": {
    "name": "ipython",
    "version": 3
   },
   "file_extension": ".py",
   "mimetype": "text/x-python",
   "name": "python",
   "nbconvert_exporter": "python",
   "pygments_lexer": "ipython3",
   "version": "3.10.15"
  }
 },
 "nbformat": 4,
 "nbformat_minor": 5
}
